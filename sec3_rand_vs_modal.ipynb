{
 "cells": [
  {
   "cell_type": "markdown",
   "metadata": {},
   "source": [
    "# Load libraries"
   ]
  },
  {
   "cell_type": "code",
   "execution_count": 44,
   "metadata": {},
   "outputs": [],
   "source": [
    "import utils as u\n",
    "import pickle as pkl"
   ]
  },
  {
   "cell_type": "markdown",
   "metadata": {},
   "source": [
    "# $T_{\\text{eff}}$"
   ]
  },
  {
   "cell_type": "markdown",
   "metadata": {},
   "source": [
    "## Load data"
   ]
  },
  {
   "cell_type": "code",
   "execution_count": 25,
   "metadata": {},
   "outputs": [
    {
     "name": "stdout",
     "output_type": "stream",
     "text": [
      "(53176, 10) (53176,)\n",
      "(5909, 10) (5909,)\n"
     ]
    }
   ],
   "source": [
    "file_name = 'sec3_1_data_output_teff.pkl'\n",
    "n_features = 10\n",
    "\n",
    "X_train, X_test, y_train, y_test = u.load_pkl_data(file_name)\n",
    "X_train, X_test = X_train[:,:n_features], X_test[:,:n_features]\n",
    "\n",
    "print(X_train.shape, y_train.shape)\n",
    "print(X_test.shape, y_test.shape)"
   ]
  },
  {
   "cell_type": "markdown",
   "metadata": {},
   "source": [
    "## Establish baseline model and performance"
   ]
  },
  {
   "cell_type": "code",
   "execution_count": 27,
   "metadata": {},
   "outputs": [
    {
     "name": "stdout",
     "output_type": "stream",
     "text": [
      "Done!\n"
     ]
    }
   ],
   "source": [
    "baselines_df = u.get_baseline_model(X_train, y_train, X_test, y_test)"
   ]
  },
  {
   "cell_type": "code",
   "execution_count": 28,
   "metadata": {},
   "outputs": [
    {
     "data": {
      "text/html": [
       "<div>\n",
       "<style scoped>\n",
       "    .dataframe tbody tr th:only-of-type {\n",
       "        vertical-align: middle;\n",
       "    }\n",
       "\n",
       "    .dataframe tbody tr th {\n",
       "        vertical-align: top;\n",
       "    }\n",
       "\n",
       "    .dataframe thead th {\n",
       "        text-align: right;\n",
       "    }\n",
       "</style>\n",
       "<table border=\"1\" class=\"dataframe\">\n",
       "  <thead>\n",
       "    <tr style=\"text-align: right;\">\n",
       "      <th></th>\n",
       "      <th>model</th>\n",
       "      <th>auc</th>\n",
       "      <th>mcc</th>\n",
       "      <th>sen</th>\n",
       "      <th>spec</th>\n",
       "    </tr>\n",
       "  </thead>\n",
       "  <tbody>\n",
       "    <tr>\n",
       "      <th>0</th>\n",
       "      <td>knn</td>\n",
       "      <td>0.968268</td>\n",
       "      <td>0.858405</td>\n",
       "      <td>0.778188</td>\n",
       "      <td>0.979325</td>\n",
       "    </tr>\n",
       "    <tr>\n",
       "      <th>1</th>\n",
       "      <td>rf</td>\n",
       "      <td>0.992198</td>\n",
       "      <td>0.896279</td>\n",
       "      <td>0.858892</td>\n",
       "      <td>0.984937</td>\n",
       "    </tr>\n",
       "    <tr>\n",
       "      <th>2</th>\n",
       "      <td>gb</td>\n",
       "      <td>0.955522</td>\n",
       "      <td>0.876054</td>\n",
       "      <td>0.834062</td>\n",
       "      <td>0.982393</td>\n",
       "    </tr>\n",
       "    <tr>\n",
       "      <th>3</th>\n",
       "      <td>vote</td>\n",
       "      <td>0.990975</td>\n",
       "      <td>0.891341</td>\n",
       "      <td>0.842314</td>\n",
       "      <td>0.984197</td>\n",
       "    </tr>\n",
       "  </tbody>\n",
       "</table>\n",
       "</div>"
      ],
      "text/plain": [
       "  model       auc       mcc       sen      spec\n",
       "0   knn  0.968268  0.858405  0.778188  0.979325\n",
       "1    rf  0.992198  0.896279  0.858892  0.984937\n",
       "2    gb  0.955522  0.876054  0.834062  0.982393\n",
       "3  vote  0.990975  0.891341  0.842314  0.984197"
      ]
     },
     "execution_count": 28,
     "metadata": {},
     "output_type": "execute_result"
    }
   ],
   "source": [
    "baselines_df"
   ]
  },
  {
   "cell_type": "code",
   "execution_count": 29,
   "metadata": {},
   "outputs": [],
   "source": [
    "results_data = {}\n",
    "results_data['teff_baselines'] = baselines_df"
   ]
  },
  {
   "cell_type": "markdown",
   "metadata": {},
   "source": [
    "**Baseline model shall be taken as the Random Forest Classifier**"
   ]
  },
  {
   "cell_type": "markdown",
   "metadata": {},
   "source": [
    "## Performance vs sampling method"
   ]
  },
  {
   "cell_type": "markdown",
   "metadata": {},
   "source": [
    "### Non-committee strategies"
   ]
  },
  {
   "cell_type": "code",
   "execution_count": 1,
   "metadata": {},
   "outputs": [
    {
     "data": {
      "text/plain": [
       "'\\nWARNING: the following cell might take hours to finish running!\\n'"
      ]
     },
     "execution_count": 1,
     "metadata": {},
     "output_type": "execute_result"
    }
   ],
   "source": [
    "\"\"\"\n",
    "WARNING: the following cell might take hours to finish running!\n",
    "\"\"\""
   ]
  },
  {
   "cell_type": "code",
   "execution_count": 30,
   "metadata": {},
   "outputs": [
    {
     "name": "stdout",
     "output_type": "stream",
     "text": [
      "Calculating scores..\n",
      "Done!\n"
     ]
    }
   ],
   "source": [
    "n_initials = [20, 100, 500]\n",
    "strategies = ['random', 'entropy', 'margin', 'uncertainty']\n",
    "for n_initial in n_initials:\n",
    "    scores = u.run_methods(X_train, y_train, X_test, y_test, 7, n_initial, 50, 20, 'rf', strategies)\n",
    "    results_data['teff_non_comm_'+str(n_initial)] = scores"
   ]
  },
  {
   "cell_type": "markdown",
   "metadata": {},
   "source": [
    "**Baseline strategy for non-committee models shall be taken as Uncertainty Sampling.**"
   ]
  },
  {
   "cell_type": "markdown",
   "metadata": {},
   "source": [
    "### Committee strategies"
   ]
  },
  {
   "cell_type": "code",
   "execution_count": 2,
   "metadata": {},
   "outputs": [
    {
     "data": {
      "text/plain": [
       "'\\nWARNING: the following cell might take hours to finish running!\\n'"
      ]
     },
     "execution_count": 2,
     "metadata": {},
     "output_type": "execute_result"
    }
   ],
   "source": [
    "\"\"\"\n",
    "WARNING: the following cell might take hours to finish running!\n",
    "\"\"\""
   ]
  },
  {
   "cell_type": "code",
   "execution_count": 31,
   "metadata": {},
   "outputs": [
    {
     "name": "stdout",
     "output_type": "stream",
     "text": [
      "Calculating scores..\n",
      "Done!\n"
     ]
    }
   ],
   "source": [
    "n_initials = [20, 100, 500]\n",
    "strategies = ['random', 'consensus', 'disagreement', 'vote']\n",
    "for n_initial in n_initials:\n",
    "    scores = u.run_methods(X_train, y_train, X_test, y_test, 7, n_initial, 50, 20, 'committee', strategies)\n",
    "    results_data['teff_comm_'+str(n_initial)] = scores"
   ]
  },
  {
   "cell_type": "markdown",
   "metadata": {},
   "source": [
    "# $\\log{g}$"
   ]
  },
  {
   "cell_type": "markdown",
   "metadata": {},
   "source": [
    "## Load data"
   ]
  },
  {
   "cell_type": "code",
   "execution_count": 32,
   "metadata": {},
   "outputs": [
    {
     "name": "stdout",
     "output_type": "stream",
     "text": [
      "(53176, 10) (53176,)\n",
      "(5909, 10) (5909,)\n"
     ]
    }
   ],
   "source": [
    "file_name = 'sec3_1_data_output_logg.pkl'\n",
    "n_features = 10\n",
    "\n",
    "X_train, X_test, y_train, y_test = u.load_pkl_data(file_name)\n",
    "X_train, X_test = X_train[:,:n_features], X_test[:,:n_features]\n",
    "\n",
    "print(X_train.shape, y_train.shape)\n",
    "print(X_test.shape, y_test.shape)"
   ]
  },
  {
   "cell_type": "markdown",
   "metadata": {},
   "source": [
    "## Establish baseline model and performance"
   ]
  },
  {
   "cell_type": "code",
   "execution_count": 33,
   "metadata": {},
   "outputs": [
    {
     "name": "stdout",
     "output_type": "stream",
     "text": [
      "Done!\n"
     ]
    }
   ],
   "source": [
    "baselines_df = u.get_baseline_model(X_train, y_train, X_test, y_test)"
   ]
  },
  {
   "cell_type": "code",
   "execution_count": 34,
   "metadata": {},
   "outputs": [
    {
     "data": {
      "text/html": [
       "<div>\n",
       "<style scoped>\n",
       "    .dataframe tbody tr th:only-of-type {\n",
       "        vertical-align: middle;\n",
       "    }\n",
       "\n",
       "    .dataframe tbody tr th {\n",
       "        vertical-align: top;\n",
       "    }\n",
       "\n",
       "    .dataframe thead th {\n",
       "        text-align: right;\n",
       "    }\n",
       "</style>\n",
       "<table border=\"1\" class=\"dataframe\">\n",
       "  <thead>\n",
       "    <tr style=\"text-align: right;\">\n",
       "      <th></th>\n",
       "      <th>model</th>\n",
       "      <th>auc</th>\n",
       "      <th>mcc</th>\n",
       "      <th>sen</th>\n",
       "      <th>spec</th>\n",
       "    </tr>\n",
       "  </thead>\n",
       "  <tbody>\n",
       "    <tr>\n",
       "      <th>0</th>\n",
       "      <td>knn</td>\n",
       "      <td>0.862580</td>\n",
       "      <td>0.563473</td>\n",
       "      <td>0.581039</td>\n",
       "      <td>0.924503</td>\n",
       "    </tr>\n",
       "    <tr>\n",
       "      <th>1</th>\n",
       "      <td>rf</td>\n",
       "      <td>0.945514</td>\n",
       "      <td>0.670216</td>\n",
       "      <td>0.684342</td>\n",
       "      <td>0.939053</td>\n",
       "    </tr>\n",
       "    <tr>\n",
       "      <th>2</th>\n",
       "      <td>gb</td>\n",
       "      <td>0.926436</td>\n",
       "      <td>0.617199</td>\n",
       "      <td>0.629351</td>\n",
       "      <td>0.929880</td>\n",
       "    </tr>\n",
       "    <tr>\n",
       "      <th>3</th>\n",
       "      <td>vote</td>\n",
       "      <td>0.941655</td>\n",
       "      <td>0.652127</td>\n",
       "      <td>0.661236</td>\n",
       "      <td>0.935497</td>\n",
       "    </tr>\n",
       "  </tbody>\n",
       "</table>\n",
       "</div>"
      ],
      "text/plain": [
       "  model       auc       mcc       sen      spec\n",
       "0   knn  0.862580  0.563473  0.581039  0.924503\n",
       "1    rf  0.945514  0.670216  0.684342  0.939053\n",
       "2    gb  0.926436  0.617199  0.629351  0.929880\n",
       "3  vote  0.941655  0.652127  0.661236  0.935497"
      ]
     },
     "execution_count": 34,
     "metadata": {},
     "output_type": "execute_result"
    }
   ],
   "source": [
    "baselines_df"
   ]
  },
  {
   "cell_type": "code",
   "execution_count": 35,
   "metadata": {},
   "outputs": [],
   "source": [
    "results_data['logg_baselines'] = baselines_df"
   ]
  },
  {
   "cell_type": "markdown",
   "metadata": {},
   "source": [
    "## Performance vs sampling method"
   ]
  },
  {
   "cell_type": "markdown",
   "metadata": {},
   "source": [
    "### Non-committee strategies"
   ]
  },
  {
   "cell_type": "code",
   "execution_count": 3,
   "metadata": {},
   "outputs": [
    {
     "data": {
      "text/plain": [
       "'\\nWARNING: the following cell might take hours to finish running!\\n'"
      ]
     },
     "execution_count": 3,
     "metadata": {},
     "output_type": "execute_result"
    }
   ],
   "source": [
    "\"\"\"\n",
    "WARNING: the following cell might take hours to finish running!\n",
    "\"\"\""
   ]
  },
  {
   "cell_type": "code",
   "execution_count": 36,
   "metadata": {},
   "outputs": [
    {
     "name": "stdout",
     "output_type": "stream",
     "text": [
      "Calculating scores..\n",
      "Done!\n"
     ]
    }
   ],
   "source": [
    "n_initials = [20, 100, 500]\n",
    "strategies = ['random', 'entropy', 'margin', 'uncertainty']\n",
    "for n_initial in n_initials:\n",
    "    scores = u.run_methods(X_train, y_train, X_test, y_test, 6, n_initial, 50, 20, 'rf', strategies)\n",
    "    results_data['logg_non_comm_'+str(n_initial)] = scores"
   ]
  },
  {
   "cell_type": "markdown",
   "metadata": {},
   "source": [
    "### Committee strategies"
   ]
  },
  {
   "cell_type": "code",
   "execution_count": 4,
   "metadata": {},
   "outputs": [
    {
     "data": {
      "text/plain": [
       "'\\nWARNING: the following cell might take hours to finish running!\\n'"
      ]
     },
     "execution_count": 4,
     "metadata": {},
     "output_type": "execute_result"
    }
   ],
   "source": [
    "\"\"\"\n",
    "WARNING: the following cell might take hours to finish running!\n",
    "\"\"\""
   ]
  },
  {
   "cell_type": "code",
   "execution_count": 37,
   "metadata": {},
   "outputs": [
    {
     "name": "stdout",
     "output_type": "stream",
     "text": [
      "Calculating scores..\n",
      "Done!\n"
     ]
    }
   ],
   "source": [
    "n_initials = [20, 100, 500]\n",
    "strategies = ['random', 'consensus', 'disagreement', 'vote']\n",
    "for n_initial in n_initials:\n",
    "    scores = u.run_methods(X_train, y_train, X_test, y_test, 6, n_initial, 50, 20, 'committee', strategies)\n",
    "    results_data['logg_comm_'+str(n_initial)] = scores"
   ]
  },
  {
   "cell_type": "markdown",
   "metadata": {},
   "source": [
    "# Fe/H"
   ]
  },
  {
   "cell_type": "markdown",
   "metadata": {},
   "source": [
    "## Load data"
   ]
  },
  {
   "cell_type": "code",
   "execution_count": 38,
   "metadata": {},
   "outputs": [
    {
     "name": "stdout",
     "output_type": "stream",
     "text": [
      "(53176, 10) (53176,)\n",
      "(5909, 10) (5909,)\n"
     ]
    }
   ],
   "source": [
    "file_name = 'sec3_1_data_output_feh.pkl'\n",
    "n_features = 10\n",
    "\n",
    "X_train, X_test, y_train, y_test = u.load_pkl_data(file_name)\n",
    "X_train, X_test = X_train[:,:n_features], X_test[:,:n_features]\n",
    "\n",
    "print(X_train.shape, y_train.shape)\n",
    "print(X_test.shape, y_test.shape)"
   ]
  },
  {
   "cell_type": "markdown",
   "metadata": {},
   "source": [
    "## Establish baseline model and performance"
   ]
  },
  {
   "cell_type": "code",
   "execution_count": 39,
   "metadata": {},
   "outputs": [
    {
     "name": "stdout",
     "output_type": "stream",
     "text": [
      "Done!\n"
     ]
    }
   ],
   "source": [
    "baselines_df = u.get_baseline_model(X_train, y_train, X_test, y_test)"
   ]
  },
  {
   "cell_type": "code",
   "execution_count": 40,
   "metadata": {},
   "outputs": [
    {
     "data": {
      "text/html": [
       "<div>\n",
       "<style scoped>\n",
       "    .dataframe tbody tr th:only-of-type {\n",
       "        vertical-align: middle;\n",
       "    }\n",
       "\n",
       "    .dataframe tbody tr th {\n",
       "        vertical-align: top;\n",
       "    }\n",
       "\n",
       "    .dataframe thead th {\n",
       "        text-align: right;\n",
       "    }\n",
       "</style>\n",
       "<table border=\"1\" class=\"dataframe\">\n",
       "  <thead>\n",
       "    <tr style=\"text-align: right;\">\n",
       "      <th></th>\n",
       "      <th>model</th>\n",
       "      <th>auc</th>\n",
       "      <th>mcc</th>\n",
       "      <th>sen</th>\n",
       "      <th>spec</th>\n",
       "    </tr>\n",
       "  </thead>\n",
       "  <tbody>\n",
       "    <tr>\n",
       "      <th>0</th>\n",
       "      <td>knn</td>\n",
       "      <td>0.921536</td>\n",
       "      <td>0.744883</td>\n",
       "      <td>0.682772</td>\n",
       "      <td>0.933569</td>\n",
       "    </tr>\n",
       "    <tr>\n",
       "      <th>1</th>\n",
       "      <td>rf</td>\n",
       "      <td>0.973940</td>\n",
       "      <td>0.842836</td>\n",
       "      <td>0.766464</td>\n",
       "      <td>0.955820</td>\n",
       "    </tr>\n",
       "    <tr>\n",
       "      <th>2</th>\n",
       "      <td>gb</td>\n",
       "      <td>0.969269</td>\n",
       "      <td>0.813625</td>\n",
       "      <td>0.728126</td>\n",
       "      <td>0.948481</td>\n",
       "    </tr>\n",
       "    <tr>\n",
       "      <th>3</th>\n",
       "      <td>vote</td>\n",
       "      <td>0.975509</td>\n",
       "      <td>0.830038</td>\n",
       "      <td>0.747954</td>\n",
       "      <td>0.951636</td>\n",
       "    </tr>\n",
       "  </tbody>\n",
       "</table>\n",
       "</div>"
      ],
      "text/plain": [
       "  model       auc       mcc       sen      spec\n",
       "0   knn  0.921536  0.744883  0.682772  0.933569\n",
       "1    rf  0.973940  0.842836  0.766464  0.955820\n",
       "2    gb  0.969269  0.813625  0.728126  0.948481\n",
       "3  vote  0.975509  0.830038  0.747954  0.951636"
      ]
     },
     "execution_count": 40,
     "metadata": {},
     "output_type": "execute_result"
    }
   ],
   "source": [
    "baselines_df"
   ]
  },
  {
   "cell_type": "code",
   "execution_count": 41,
   "metadata": {},
   "outputs": [],
   "source": [
    "results_data['feh_baselines'] = baselines_df"
   ]
  },
  {
   "cell_type": "markdown",
   "metadata": {},
   "source": [
    "## Performance vs sampling method"
   ]
  },
  {
   "cell_type": "markdown",
   "metadata": {},
   "source": [
    "### Non-committee strategies"
   ]
  },
  {
   "cell_type": "code",
   "execution_count": 5,
   "metadata": {},
   "outputs": [
    {
     "data": {
      "text/plain": [
       "'\\nWARNING: the following cell might take hours to finish running!\\n'"
      ]
     },
     "execution_count": 5,
     "metadata": {},
     "output_type": "execute_result"
    }
   ],
   "source": [
    "\"\"\"\n",
    "WARNING: the following cell might take hours to finish running!\n",
    "\"\"\""
   ]
  },
  {
   "cell_type": "code",
   "execution_count": 42,
   "metadata": {},
   "outputs": [
    {
     "name": "stdout",
     "output_type": "stream",
     "text": [
      "Calculating scores..\n",
      "Done!\n"
     ]
    }
   ],
   "source": [
    "n_initials = [20, 100, 500]\n",
    "strategies = ['random', 'entropy', 'margin', 'uncertainty']\n",
    "for n_initial in n_initials:\n",
    "    scores = u.run_methods(X_train, y_train, X_test, y_test, 4, n_initial, 50, 20, 'rf', strategies)\n",
    "    results_data['feh_non_comm_'+str(n_initial)] = scores"
   ]
  },
  {
   "cell_type": "markdown",
   "metadata": {},
   "source": [
    "### Committee strategies"
   ]
  },
  {
   "cell_type": "code",
   "execution_count": 6,
   "metadata": {},
   "outputs": [
    {
     "data": {
      "text/plain": [
       "'\\nWARNING: the following cell might take hours to finish running!\\n'"
      ]
     },
     "execution_count": 6,
     "metadata": {},
     "output_type": "execute_result"
    }
   ],
   "source": [
    "\"\"\"\n",
    "WARNING: the following cell might take hours to finish running!\n",
    "\"\"\""
   ]
  },
  {
   "cell_type": "code",
   "execution_count": 43,
   "metadata": {},
   "outputs": [
    {
     "name": "stdout",
     "output_type": "stream",
     "text": [
      "Calculating scores..\n",
      "Done!\n"
     ]
    }
   ],
   "source": [
    "n_initials = [20, 100, 500]\n",
    "strategies = ['random', 'consensus', 'disagreement', 'vote']\n",
    "for n_initial in n_initials:\n",
    "    scores = u.run_methods(X_train, y_train, X_test, y_test, 4, n_initial, 50, 20, 'committee', strategies)\n",
    "    results_data['feh_comm_'+str(n_initial)] = scores"
   ]
  },
  {
   "cell_type": "markdown",
   "metadata": {},
   "source": [
    "# Save results"
   ]
  },
  {
   "cell_type": "code",
   "execution_count": 45,
   "metadata": {},
   "outputs": [
    {
     "name": "stdout",
     "output_type": "stream",
     "text": [
      "Results saved in file 'results.pkl'.\n"
     ]
    }
   ],
   "source": [
    "file_name = 'results.pkl'\n",
    "with open(file_name, 'wb') as f:\n",
    "    pkl.dump(results_data, f, protocol=pkl.HIGHEST_PROTOCOL)\n",
    "\n",
    "print(\"Results saved in file '\" + file_name + \"'.\")"
   ]
  }
 ],
 "metadata": {
  "kernelspec": {
   "display_name": "Python 3",
   "language": "python",
   "name": "python3"
  },
  "language_info": {
   "codemirror_mode": {
    "name": "ipython",
    "version": 3
   },
   "file_extension": ".py",
   "mimetype": "text/x-python",
   "name": "python",
   "nbconvert_exporter": "python",
   "pygments_lexer": "ipython3",
   "version": "3.11.9"
  }
 },
 "nbformat": 4,
 "nbformat_minor": 2
}
