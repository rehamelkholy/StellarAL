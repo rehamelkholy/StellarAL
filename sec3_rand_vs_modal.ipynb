{
 "cells": [
  {
   "cell_type": "markdown",
   "metadata": {},
   "source": [
    "# Load libraries"
   ]
  },
  {
   "cell_type": "code",
   "execution_count": 26,
   "metadata": {},
   "outputs": [],
   "source": [
    "import utils as u\n",
    "import pickle as pkl"
   ]
  },
  {
   "cell_type": "markdown",
   "metadata": {},
   "source": [
    "# $T_{\\text{eff}}$"
   ]
  },
  {
   "cell_type": "markdown",
   "metadata": {},
   "source": [
    "## Load data"
   ]
  },
  {
   "cell_type": "code",
   "execution_count": 27,
   "metadata": {},
   "outputs": [
    {
     "name": "stdout",
     "output_type": "stream",
     "text": [
      "(53176, 9) (53176,)\n",
      "(5909, 9) (5909,)\n"
     ]
    }
   ],
   "source": [
    "file_name = 'sec3_1_data_output_teff.pkl'\n",
    "n_features = 9\n",
    "\n",
    "X_train, X_test, y_train, y_test = u.load_pkl_data(file_name)\n",
    "X_train, X_test = X_train[:,:n_features], X_test[:,:n_features]\n",
    "\n",
    "print(X_train.shape, y_train.shape)\n",
    "print(X_test.shape, y_test.shape)\n",
    "\n",
    "results_data = {}"
   ]
  },
  {
   "cell_type": "markdown",
   "metadata": {},
   "source": [
    "## Establish baseline model and performance"
   ]
  },
  {
   "cell_type": "code",
   "execution_count": 28,
   "metadata": {},
   "outputs": [
    {
     "name": "stdout",
     "output_type": "stream",
     "text": [
      "Done!\n"
     ]
    }
   ],
   "source": [
    "baselines_df = u.get_baseline_model(X_train, y_train, X_test, y_test)"
   ]
  },
  {
   "cell_type": "code",
   "execution_count": 29,
   "metadata": {},
   "outputs": [
    {
     "data": {
      "text/html": [
       "<div>\n",
       "<style scoped>\n",
       "    .dataframe tbody tr th:only-of-type {\n",
       "        vertical-align: middle;\n",
       "    }\n",
       "\n",
       "    .dataframe tbody tr th {\n",
       "        vertical-align: top;\n",
       "    }\n",
       "\n",
       "    .dataframe thead th {\n",
       "        text-align: right;\n",
       "    }\n",
       "</style>\n",
       "<table border=\"1\" class=\"dataframe\">\n",
       "  <thead>\n",
       "    <tr style=\"text-align: right;\">\n",
       "      <th></th>\n",
       "      <th>model</th>\n",
       "      <th>auc</th>\n",
       "      <th>mcc</th>\n",
       "      <th>sen</th>\n",
       "      <th>spec</th>\n",
       "    </tr>\n",
       "  </thead>\n",
       "  <tbody>\n",
       "    <tr>\n",
       "      <th>0</th>\n",
       "      <td>knn</td>\n",
       "      <td>0.946530</td>\n",
       "      <td>0.876180</td>\n",
       "      <td>0.786735</td>\n",
       "      <td>0.982464</td>\n",
       "    </tr>\n",
       "    <tr>\n",
       "      <th>1</th>\n",
       "      <td>rf</td>\n",
       "      <td>0.989042</td>\n",
       "      <td>0.906607</td>\n",
       "      <td>0.858847</td>\n",
       "      <td>0.987032</td>\n",
       "    </tr>\n",
       "    <tr>\n",
       "      <th>2</th>\n",
       "      <td>gb</td>\n",
       "      <td>0.954921</td>\n",
       "      <td>0.836016</td>\n",
       "      <td>0.765556</td>\n",
       "      <td>0.976750</td>\n",
       "    </tr>\n",
       "    <tr>\n",
       "      <th>3</th>\n",
       "      <td>vote</td>\n",
       "      <td>0.989141</td>\n",
       "      <td>0.891409</td>\n",
       "      <td>0.824532</td>\n",
       "      <td>0.984853</td>\n",
       "    </tr>\n",
       "  </tbody>\n",
       "</table>\n",
       "</div>"
      ],
      "text/plain": [
       "  model       auc       mcc       sen      spec\n",
       "0   knn  0.946530  0.876180  0.786735  0.982464\n",
       "1    rf  0.989042  0.906607  0.858847  0.987032\n",
       "2    gb  0.954921  0.836016  0.765556  0.976750\n",
       "3  vote  0.989141  0.891409  0.824532  0.984853"
      ]
     },
     "execution_count": 29,
     "metadata": {},
     "output_type": "execute_result"
    }
   ],
   "source": [
    "baselines_df"
   ]
  },
  {
   "cell_type": "code",
   "execution_count": 30,
   "metadata": {},
   "outputs": [],
   "source": [
    "results_data['teff_baselines'] = baselines_df"
   ]
  },
  {
   "cell_type": "markdown",
   "metadata": {},
   "source": [
    "**Baseline model shall be taken as the Random Forest Classifier**"
   ]
  },
  {
   "cell_type": "markdown",
   "metadata": {},
   "source": [
    "## Performance vs sampling method"
   ]
  },
  {
   "cell_type": "markdown",
   "metadata": {},
   "source": [
    "### Non-committee strategies"
   ]
  },
  {
   "cell_type": "code",
   "execution_count": 31,
   "metadata": {},
   "outputs": [
    {
     "data": {
      "text/plain": [
       "'\\nWARNING: the following cell might take hours to finish running!\\n'"
      ]
     },
     "execution_count": 31,
     "metadata": {},
     "output_type": "execute_result"
    }
   ],
   "source": [
    "\"\"\"\n",
    "WARNING: the following cell might take hours to finish running!\n",
    "\"\"\""
   ]
  },
  {
   "cell_type": "code",
   "execution_count": 32,
   "metadata": {},
   "outputs": [
    {
     "name": "stdout",
     "output_type": "stream",
     "text": [
      "Calculating scores..\n",
      "Done!\n"
     ]
    }
   ],
   "source": [
    "n_initials = [20, 100, 500]\n",
    "strategies = ['random', 'entropy', 'margin', 'uncertainty']\n",
    "for n_initial in n_initials:\n",
    "    scores = u.run_methods(X_train, y_train, X_test, y_test, 7, n_initial, 50, 20, 'rf', strategies)\n",
    "    results_data['teff_non_comm_'+str(n_initial)] = scores"
   ]
  },
  {
   "cell_type": "markdown",
   "metadata": {},
   "source": [
    "**Baseline strategy for non-committee models shall be taken as Uncertainty Sampling.**"
   ]
  },
  {
   "cell_type": "markdown",
   "metadata": {},
   "source": [
    "### Committee strategies"
   ]
  },
  {
   "cell_type": "code",
   "execution_count": 33,
   "metadata": {},
   "outputs": [
    {
     "data": {
      "text/plain": [
       "'\\nWARNING: the following cell might take hours to finish running!\\n'"
      ]
     },
     "execution_count": 33,
     "metadata": {},
     "output_type": "execute_result"
    }
   ],
   "source": [
    "\"\"\"\n",
    "WARNING: the following cell might take hours to finish running!\n",
    "\"\"\""
   ]
  },
  {
   "cell_type": "code",
   "execution_count": 34,
   "metadata": {},
   "outputs": [
    {
     "name": "stdout",
     "output_type": "stream",
     "text": [
      "Calculating scores..\n",
      "Done!\n"
     ]
    }
   ],
   "source": [
    "n_initials = [20, 100, 500]\n",
    "strategies = ['random', 'consensus', 'disagreement', 'vote']\n",
    "for n_initial in n_initials:\n",
    "    scores = u.run_methods(X_train, y_train, X_test, y_test, 7, n_initial, 50, 20, 'committee', strategies)\n",
    "    results_data['teff_comm_'+str(n_initial)] = scores"
   ]
  },
  {
   "cell_type": "markdown",
   "metadata": {},
   "source": [
    "# $\\log{g}$"
   ]
  },
  {
   "cell_type": "markdown",
   "metadata": {},
   "source": [
    "## Load data"
   ]
  },
  {
   "cell_type": "code",
   "execution_count": 35,
   "metadata": {},
   "outputs": [
    {
     "name": "stdout",
     "output_type": "stream",
     "text": [
      "(53176, 9) (53176,)\n",
      "(5909, 9) (5909,)\n"
     ]
    }
   ],
   "source": [
    "file_name = 'sec3_1_data_output_logg.pkl'\n",
    "n_features = 9\n",
    "\n",
    "X_train, X_test, y_train, y_test = u.load_pkl_data(file_name)\n",
    "X_train, X_test = X_train[:,:n_features], X_test[:,:n_features]\n",
    "\n",
    "print(X_train.shape, y_train.shape)\n",
    "print(X_test.shape, y_test.shape)"
   ]
  },
  {
   "cell_type": "markdown",
   "metadata": {},
   "source": [
    "## Establish baseline model and performance"
   ]
  },
  {
   "cell_type": "code",
   "execution_count": 36,
   "metadata": {},
   "outputs": [
    {
     "name": "stdout",
     "output_type": "stream",
     "text": [
      "Done!\n"
     ]
    }
   ],
   "source": [
    "baselines_df = u.get_baseline_model(X_train, y_train, X_test, y_test)"
   ]
  },
  {
   "cell_type": "code",
   "execution_count": 37,
   "metadata": {},
   "outputs": [
    {
     "data": {
      "text/html": [
       "<div>\n",
       "<style scoped>\n",
       "    .dataframe tbody tr th:only-of-type {\n",
       "        vertical-align: middle;\n",
       "    }\n",
       "\n",
       "    .dataframe tbody tr th {\n",
       "        vertical-align: top;\n",
       "    }\n",
       "\n",
       "    .dataframe thead th {\n",
       "        text-align: right;\n",
       "    }\n",
       "</style>\n",
       "<table border=\"1\" class=\"dataframe\">\n",
       "  <thead>\n",
       "    <tr style=\"text-align: right;\">\n",
       "      <th></th>\n",
       "      <th>model</th>\n",
       "      <th>auc</th>\n",
       "      <th>mcc</th>\n",
       "      <th>sen</th>\n",
       "      <th>spec</th>\n",
       "    </tr>\n",
       "  </thead>\n",
       "  <tbody>\n",
       "    <tr>\n",
       "      <th>0</th>\n",
       "      <td>knn</td>\n",
       "      <td>0.884130</td>\n",
       "      <td>0.591118</td>\n",
       "      <td>0.629072</td>\n",
       "      <td>0.928726</td>\n",
       "    </tr>\n",
       "    <tr>\n",
       "      <th>1</th>\n",
       "      <td>rf</td>\n",
       "      <td>0.948981</td>\n",
       "      <td>0.683279</td>\n",
       "      <td>0.706690</td>\n",
       "      <td>0.941926</td>\n",
       "    </tr>\n",
       "    <tr>\n",
       "      <th>2</th>\n",
       "      <td>gb</td>\n",
       "      <td>0.928445</td>\n",
       "      <td>0.626683</td>\n",
       "      <td>0.646757</td>\n",
       "      <td>0.931524</td>\n",
       "    </tr>\n",
       "    <tr>\n",
       "      <th>3</th>\n",
       "      <td>vote</td>\n",
       "      <td>0.947739</td>\n",
       "      <td>0.672668</td>\n",
       "      <td>0.683193</td>\n",
       "      <td>0.939143</td>\n",
       "    </tr>\n",
       "  </tbody>\n",
       "</table>\n",
       "</div>"
      ],
      "text/plain": [
       "  model       auc       mcc       sen      spec\n",
       "0   knn  0.884130  0.591118  0.629072  0.928726\n",
       "1    rf  0.948981  0.683279  0.706690  0.941926\n",
       "2    gb  0.928445  0.626683  0.646757  0.931524\n",
       "3  vote  0.947739  0.672668  0.683193  0.939143"
      ]
     },
     "execution_count": 37,
     "metadata": {},
     "output_type": "execute_result"
    }
   ],
   "source": [
    "baselines_df"
   ]
  },
  {
   "cell_type": "code",
   "execution_count": 38,
   "metadata": {},
   "outputs": [],
   "source": [
    "results_data['logg_baselines'] = baselines_df"
   ]
  },
  {
   "cell_type": "markdown",
   "metadata": {},
   "source": [
    "## Performance vs sampling method"
   ]
  },
  {
   "cell_type": "markdown",
   "metadata": {},
   "source": [
    "### Non-committee strategies"
   ]
  },
  {
   "cell_type": "code",
   "execution_count": 39,
   "metadata": {},
   "outputs": [
    {
     "data": {
      "text/plain": [
       "'\\nWARNING: the following cell might take hours to finish running!\\n'"
      ]
     },
     "execution_count": 39,
     "metadata": {},
     "output_type": "execute_result"
    }
   ],
   "source": [
    "\"\"\"\n",
    "WARNING: the following cell might take hours to finish running!\n",
    "\"\"\""
   ]
  },
  {
   "cell_type": "code",
   "execution_count": 40,
   "metadata": {},
   "outputs": [
    {
     "name": "stdout",
     "output_type": "stream",
     "text": [
      "Calculating scores..\n",
      "Done!\n"
     ]
    }
   ],
   "source": [
    "n_initials = [20, 100, 500]\n",
    "strategies = ['random', 'entropy', 'margin', 'uncertainty']\n",
    "for n_initial in n_initials:\n",
    "    scores = u.run_methods(X_train, y_train, X_test, y_test, 6, n_initial, 50, 20, 'rf', strategies)\n",
    "    results_data['logg_non_comm_'+str(n_initial)] = scores"
   ]
  },
  {
   "cell_type": "markdown",
   "metadata": {},
   "source": [
    "### Committee strategies"
   ]
  },
  {
   "cell_type": "code",
   "execution_count": 41,
   "metadata": {},
   "outputs": [
    {
     "data": {
      "text/plain": [
       "'\\nWARNING: the following cell might take hours to finish running!\\n'"
      ]
     },
     "execution_count": 41,
     "metadata": {},
     "output_type": "execute_result"
    }
   ],
   "source": [
    "\"\"\"\n",
    "WARNING: the following cell might take hours to finish running!\n",
    "\"\"\""
   ]
  },
  {
   "cell_type": "code",
   "execution_count": 42,
   "metadata": {},
   "outputs": [
    {
     "name": "stdout",
     "output_type": "stream",
     "text": [
      "Calculating scores..\n",
      "Done!\n"
     ]
    }
   ],
   "source": [
    "n_initials = [20, 100, 500]\n",
    "strategies = ['random', 'consensus', 'disagreement', 'vote']\n",
    "for n_initial in n_initials:\n",
    "    scores = u.run_methods(X_train, y_train, X_test, y_test, 6, n_initial, 50, 20, 'committee', strategies)\n",
    "    results_data['logg_comm_'+str(n_initial)] = scores"
   ]
  },
  {
   "cell_type": "markdown",
   "metadata": {},
   "source": [
    "# Fe/H"
   ]
  },
  {
   "cell_type": "markdown",
   "metadata": {},
   "source": [
    "## Load data"
   ]
  },
  {
   "cell_type": "code",
   "execution_count": 43,
   "metadata": {},
   "outputs": [
    {
     "name": "stdout",
     "output_type": "stream",
     "text": [
      "(53176, 9) (53176,)\n",
      "(5909, 9) (5909,)\n"
     ]
    }
   ],
   "source": [
    "file_name = 'sec3_1_data_output_feh.pkl'\n",
    "n_features = 9\n",
    "\n",
    "X_train, X_test, y_train, y_test = u.load_pkl_data(file_name)\n",
    "X_train, X_test = X_train[:,:n_features], X_test[:,:n_features]\n",
    "\n",
    "print(X_train.shape, y_train.shape)\n",
    "print(X_test.shape, y_test.shape)"
   ]
  },
  {
   "cell_type": "markdown",
   "metadata": {},
   "source": [
    "## Establish baseline model and performance"
   ]
  },
  {
   "cell_type": "code",
   "execution_count": 44,
   "metadata": {},
   "outputs": [
    {
     "name": "stdout",
     "output_type": "stream",
     "text": [
      "Done!\n"
     ]
    }
   ],
   "source": [
    "baselines_df = u.get_baseline_model(X_train, y_train, X_test, y_test)"
   ]
  },
  {
   "cell_type": "code",
   "execution_count": 45,
   "metadata": {},
   "outputs": [
    {
     "data": {
      "text/html": [
       "<div>\n",
       "<style scoped>\n",
       "    .dataframe tbody tr th:only-of-type {\n",
       "        vertical-align: middle;\n",
       "    }\n",
       "\n",
       "    .dataframe tbody tr th {\n",
       "        vertical-align: top;\n",
       "    }\n",
       "\n",
       "    .dataframe thead th {\n",
       "        text-align: right;\n",
       "    }\n",
       "</style>\n",
       "<table border=\"1\" class=\"dataframe\">\n",
       "  <thead>\n",
       "    <tr style=\"text-align: right;\">\n",
       "      <th></th>\n",
       "      <th>model</th>\n",
       "      <th>auc</th>\n",
       "      <th>mcc</th>\n",
       "      <th>sen</th>\n",
       "      <th>spec</th>\n",
       "    </tr>\n",
       "  </thead>\n",
       "  <tbody>\n",
       "    <tr>\n",
       "      <th>0</th>\n",
       "      <td>knn</td>\n",
       "      <td>0.919634</td>\n",
       "      <td>0.771872</td>\n",
       "      <td>0.711308</td>\n",
       "      <td>0.938733</td>\n",
       "    </tr>\n",
       "    <tr>\n",
       "      <th>1</th>\n",
       "      <td>rf</td>\n",
       "      <td>0.978527</td>\n",
       "      <td>0.856402</td>\n",
       "      <td>0.786596</td>\n",
       "      <td>0.960595</td>\n",
       "    </tr>\n",
       "    <tr>\n",
       "      <th>2</th>\n",
       "      <td>gb</td>\n",
       "      <td>0.975037</td>\n",
       "      <td>0.835774</td>\n",
       "      <td>0.775932</td>\n",
       "      <td>0.956443</td>\n",
       "    </tr>\n",
       "    <tr>\n",
       "      <th>3</th>\n",
       "      <td>vote</td>\n",
       "      <td>0.980077</td>\n",
       "      <td>0.845228</td>\n",
       "      <td>0.781399</td>\n",
       "      <td>0.957581</td>\n",
       "    </tr>\n",
       "  </tbody>\n",
       "</table>\n",
       "</div>"
      ],
      "text/plain": [
       "  model       auc       mcc       sen      spec\n",
       "0   knn  0.919634  0.771872  0.711308  0.938733\n",
       "1    rf  0.978527  0.856402  0.786596  0.960595\n",
       "2    gb  0.975037  0.835774  0.775932  0.956443\n",
       "3  vote  0.980077  0.845228  0.781399  0.957581"
      ]
     },
     "execution_count": 45,
     "metadata": {},
     "output_type": "execute_result"
    }
   ],
   "source": [
    "baselines_df"
   ]
  },
  {
   "cell_type": "code",
   "execution_count": 46,
   "metadata": {},
   "outputs": [],
   "source": [
    "results_data['feh_baselines'] = baselines_df"
   ]
  },
  {
   "cell_type": "markdown",
   "metadata": {},
   "source": [
    "## Performance vs sampling method"
   ]
  },
  {
   "cell_type": "markdown",
   "metadata": {},
   "source": [
    "### Non-committee strategies"
   ]
  },
  {
   "cell_type": "code",
   "execution_count": 47,
   "metadata": {},
   "outputs": [
    {
     "data": {
      "text/plain": [
       "'\\nWARNING: the following cell might take hours to finish running!\\n'"
      ]
     },
     "execution_count": 47,
     "metadata": {},
     "output_type": "execute_result"
    }
   ],
   "source": [
    "\"\"\"\n",
    "WARNING: the following cell might take hours to finish running!\n",
    "\"\"\""
   ]
  },
  {
   "cell_type": "code",
   "execution_count": 48,
   "metadata": {},
   "outputs": [
    {
     "name": "stdout",
     "output_type": "stream",
     "text": [
      "Calculating scores..\n",
      "Done!\n"
     ]
    }
   ],
   "source": [
    "n_initials = [20, 100, 500]\n",
    "strategies = ['random', 'entropy', 'margin', 'uncertainty']\n",
    "for n_initial in n_initials:\n",
    "    scores = u.run_methods(X_train, y_train, X_test, y_test, 4, n_initial, 50, 20, 'rf', strategies)\n",
    "    results_data['feh_non_comm_'+str(n_initial)] = scores"
   ]
  },
  {
   "cell_type": "markdown",
   "metadata": {},
   "source": [
    "### Committee strategies"
   ]
  },
  {
   "cell_type": "code",
   "execution_count": 49,
   "metadata": {},
   "outputs": [
    {
     "data": {
      "text/plain": [
       "'\\nWARNING: the following cell might take hours to finish running!\\n'"
      ]
     },
     "execution_count": 49,
     "metadata": {},
     "output_type": "execute_result"
    }
   ],
   "source": [
    "\"\"\"\n",
    "WARNING: the following cell might take hours to finish running!\n",
    "\"\"\""
   ]
  },
  {
   "cell_type": "code",
   "execution_count": 50,
   "metadata": {},
   "outputs": [
    {
     "name": "stdout",
     "output_type": "stream",
     "text": [
      "Calculating scores..\n",
      "Done!\n"
     ]
    }
   ],
   "source": [
    "n_initials = [20, 100, 500]\n",
    "strategies = ['random', 'consensus', 'disagreement', 'vote']\n",
    "for n_initial in n_initials:\n",
    "    scores = u.run_methods(X_train, y_train, X_test, y_test, 4, n_initial, 50, 20, 'committee', strategies)\n",
    "    results_data['feh_comm_'+str(n_initial)] = scores"
   ]
  },
  {
   "cell_type": "markdown",
   "metadata": {},
   "source": [
    "# Save results"
   ]
  },
  {
   "cell_type": "code",
   "execution_count": 51,
   "metadata": {},
   "outputs": [
    {
     "name": "stdout",
     "output_type": "stream",
     "text": [
      "Results saved in file 'results.pkl'.\n"
     ]
    }
   ],
   "source": [
    "file_name = 'results.pkl'\n",
    "with open(file_name, 'wb') as f:\n",
    "    pkl.dump(results_data, f, protocol=pkl.HIGHEST_PROTOCOL)\n",
    "\n",
    "print(\"Results saved in file '\" + file_name + \"'.\")"
   ]
  }
 ],
 "metadata": {
  "kernelspec": {
   "display_name": "Python 3",
   "language": "python",
   "name": "python3"
  },
  "language_info": {
   "codemirror_mode": {
    "name": "ipython",
    "version": 3
   },
   "file_extension": ".py",
   "mimetype": "text/x-python",
   "name": "python",
   "nbconvert_exporter": "python",
   "pygments_lexer": "ipython3",
   "version": "3.11.9"
  }
 },
 "nbformat": 4,
 "nbformat_minor": 2
}
