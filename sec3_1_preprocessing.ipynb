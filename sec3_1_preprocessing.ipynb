{
 "cells": [
  {
   "cell_type": "code",
   "execution_count": 1,
   "metadata": {},
   "outputs": [],
   "source": [
    "# load libraries\n",
    "import utils as u\n",
    "import numpy as np\n",
    "import matplotlib.pyplot as plt\n",
    "from sklearn.preprocessing import MinMaxScaler\n",
    "from sklearn.decomposition import PCA"
   ]
  },
  {
   "cell_type": "code",
   "execution_count": 2,
   "metadata": {},
   "outputs": [],
   "source": [
    "plt.rcParams.update({\n",
    "    'axes.titlesize': 14,     # Title font size\n",
    "    'axes.labelsize': 14,     # X and Y axis labels font size\n",
    "    'xtick.labelsize': 12,    # X tick labels font size\n",
    "    'ytick.labelsize': 12,    # Y tick labels font size\n",
    "    'legend.fontsize': 14,    # Legend font size\n",
    "    'figure.titlesize': 14    # Figure title font size\n",
    "})"
   ]
  },
  {
   "cell_type": "markdown",
   "metadata": {},
   "source": [
    "# Load the data"
   ]
  },
  {
   "cell_type": "code",
   "execution_count": 3,
   "metadata": {},
   "outputs": [],
   "source": [
    "import pickle as pkl\n",
    "\n",
    "# load the stored data\n",
    "file_name = 'sec2_data_output.pkl'\n",
    "\n",
    "with open(file_name, 'rb') as f:\n",
    "    data = pkl.load(f)\n",
    "\n",
    "wl = data['wavelength']\n",
    "df = data['df']"
   ]
  },
  {
   "cell_type": "code",
   "execution_count": 4,
   "metadata": {},
   "outputs": [
    {
     "data": {
      "text/plain": [
       "Index(['manga_id', 'teff', 'teff_err', 'logg', 'logg_err', 'feh', 'feh_err',\n",
       "       'flux', 's2n', 'teff_class', 'teff_label', 'logg_label', 'feh_class',\n",
       "       'feh_label'],\n",
       "      dtype='object')"
      ]
     },
     "execution_count": 4,
     "metadata": {},
     "output_type": "execute_result"
    }
   ],
   "source": [
    "df.columns"
   ]
  },
  {
   "cell_type": "code",
   "execution_count": 5,
   "metadata": {},
   "outputs": [],
   "source": [
    "X = np.stack(df['flux'].values, axis=0)\n",
    "\n",
    "y_t = np.array(df['teff_label']).astype('int')\n",
    "y_g = np.array(df['logg_label']).astype('int')\n",
    "y_m = np.array(df['feh_label']).astype('int')"
   ]
  },
  {
   "cell_type": "markdown",
   "metadata": {},
   "source": [
    "# Feature selection"
   ]
  },
  {
   "cell_type": "code",
   "execution_count": 6,
   "metadata": {},
   "outputs": [
    {
     "name": "stdout",
     "output_type": "stream",
     "text": [
      "Wavelength range: 3621.60  10353.81\n",
      "Number of values per spectrum: 4563\n"
     ]
    }
   ],
   "source": [
    "print('Wavelength range: {:.2f}  {:.2f}'.format(wl[0], wl[-1]))\n",
    "\n",
    "spec_size = X[0].shape[0]\n",
    "\n",
    "print('Number of values per spectrum:', spec_size)"
   ]
  },
  {
   "cell_type": "markdown",
   "metadata": {},
   "source": [
    "   **Lines to be selected**\n",
    "   \n",
    "   1. He I 3889 Å\n",
    "   2. Ca II K (3934 Å)\n",
    "   3. Ca II H (3968 Å)\n",
    "   4. H-delta (4101.7 Å)\n",
    "   5. Ca I 4227 Å\n",
    "   6. G Band of CH around 4300 Å\n",
    "   7. H-gamma (4340.5 Å)\n",
    "   8. Fe I 4384 Å\n",
    "   9. He I 4471 Å\n",
    "   10. He II 4686 Å\n",
    "   11. H-beta (4861.3 Å)\n",
    "   12. Fe II 4920 Å\n",
    "   13. Fe II 5018 Å\n",
    "   14. Fe II 5169 Å\n",
    "   15. Fe I 5270 Å\n",
    "   16. He II 5411 Å\n",
    "   17. He I 5876 Å\n",
    "   18. Na I 5890 - 5896 Å\n",
    "   19. Fe I 6173 Å\n",
    "   20. TiO Band 6200 - 6300 Å\n",
    "   21. H-alpha (6562.8 Å)\n",
    "   22. TiO Band 6700 - 6900 Å"
   ]
  },
  {
   "cell_type": "code",
   "execution_count": 7,
   "metadata": {},
   "outputs": [
    {
     "name": "stdout",
     "output_type": "stream",
     "text": [
      "Line 22 of 22, Current shape: (59085, 457)\n",
      "Final shape: (59085, 674)\n"
     ]
    }
   ],
   "source": [
    "spec_lines = {'line_wl':\n",
    "    [3889, 3934, 3968, 4101.7, 4227, 4300, 4340.5, 4384, 4471, 4686, 4861.3, 4920, 5018, 5169, 5270, 5411, 5876, 5893, 6173, 6250, 6562.8, 6800],\n",
    "              'bounds':\n",
    "    [8, 8, 8, 8, 8, 8, 8, 8, 8, 8, 8, 8, 8, 8, 8, 8, 8, 8, 8, 58, 8, 108]}\n",
    "\n",
    "new_X = u.select_features(X, wl, spec_lines['line_wl'][0])\n",
    "for i in range(1, len(spec_lines['line_wl'])):\n",
    "    print(f\"Line {i+1} of {len(spec_lines['line_wl'])}, Current shape: {new_X.shape}\", end=\"\\r\")\n",
    "    new_X = np.concatenate((new_X, u.select_features(X, wl, spec_lines['line_wl'][i], spec_lines['bounds'][i])), axis=1)\n",
    "print(f\"\\nFinal shape: {new_X.shape}\")"
   ]
  },
  {
   "cell_type": "markdown",
   "metadata": {},
   "source": [
    "# PCA plot"
   ]
  },
  {
   "cell_type": "markdown",
   "metadata": {},
   "source": [
    "This is only done to plot the PCA plot and choose the number of features. Neither the scaler nor the PCA object fitted using the entire dataset are used later. New scalers are fitted using only training sets to transfrom the data."
   ]
  },
  {
   "cell_type": "code",
   "execution_count": 8,
   "metadata": {},
   "outputs": [],
   "source": [
    "scaler = MinMaxScaler()\n",
    "# fit the scaler and transform the data\n",
    "X_scaled = scaler.fit_transform(new_X)"
   ]
  },
  {
   "cell_type": "code",
   "execution_count": 9,
   "metadata": {},
   "outputs": [],
   "source": [
    "pca = PCA(n_components=X_scaled.shape[1])\n",
    "# fit the PCA object and transform the data\n",
    "X_pca = pca.fit_transform(X_scaled)"
   ]
  },
  {
   "cell_type": "code",
   "execution_count": 10,
   "metadata": {},
   "outputs": [
    {
     "name": "stdout",
     "output_type": "stream",
     "text": [
      "More than 99.9% of the variance in the data is explained by 9 PCA components.\n"
     ]
    }
   ],
   "source": [
    "n_comp = np.where(np.cumsum(pca.explained_variance_ratio_) >= 0.999)[0][0] + 1\n",
    "print(f\"More than 99.9% of the variance in the data is explained by {n_comp} PCA components.\")"
   ]
  },
  {
   "cell_type": "code",
   "execution_count": 18,
   "metadata": {},
   "outputs": [
    {
     "data": {
      "image/png": "[encoded data removed]",
      "text/plain": [
       "<Figure size 640x480 with 1 Axes>"
      ]
     },
     "metadata": {},
     "output_type": "display_data"
    }
   ],
   "source": [
    "y_pca = np.cumsum(pca.explained_variance_ratio_)[9]\n",
    "\n",
    "plt.plot(range(1,21), np.cumsum(pca.explained_variance_ratio_)[:20], linewidth=3)\n",
    "plt.plot([10,10], [0.88, y_pca], color='red', linestyle='--', linewidth=3)\n",
    "plt.plot([1,10], [y_pca, y_pca], color='red', linestyle='--', linewidth=3)\n",
    "plt.xlabel('Number of components')\n",
    "plt.ylabel('Cumulative explained variance')\n",
    "plt.ylim(0.99,1)\n",
    "plt.xlim(2,15)\n",
    "plt.grid(True)\n",
    "\n",
    "plt.tight_layout()\n",
    "\n",
    "plt.savefig('PCA.pdf');"
   ]
  },
  {
   "cell_type": "markdown",
   "metadata": {},
   "source": [
    "# Preprocess and save data files"
   ]
  },
  {
   "cell_type": "code",
   "execution_count": 12,
   "metadata": {},
   "outputs": [
    {
     "name": "stdout",
     "output_type": "stream",
     "text": [
      "Data saved in file sec3_1_data_output_teff.pkl\n"
     ]
    }
   ],
   "source": [
    "# t_eff\n",
    "u.preprocess_set(new_X, y_t, 'teff')"
   ]
  },
  {
   "cell_type": "code",
   "execution_count": 13,
   "metadata": {},
   "outputs": [
    {
     "name": "stdout",
     "output_type": "stream",
     "text": [
      "Data saved in file sec3_1_data_output_logg.pkl\n"
     ]
    }
   ],
   "source": [
    "# log g\n",
    "u.preprocess_set(new_X, y_g, 'logg')"
   ]
  },
  {
   "cell_type": "code",
   "execution_count": 14,
   "metadata": {},
   "outputs": [
    {
     "name": "stdout",
     "output_type": "stream",
     "text": [
      "Data saved in file sec3_1_data_output_feh.pkl\n"
     ]
    }
   ],
   "source": [
    "# [Fe/H]\n",
    "u.preprocess_set(new_X, y_m, 'feh')"
   ]
  }
 ],
 "metadata": {
  "kernelspec": {
   "display_name": "Python 3",
   "language": "python",
   "name": "python3"
  },
  "language_info": {
   "codemirror_mode": {
    "name": "ipython",
    "version": 3
   },
   "file_extension": ".py",
   "mimetype": "text/x-python",
   "name": "python",
   "nbconvert_exporter": "python",
   "pygments_lexer": "ipython3",
   "version": "3.11.9"
  }
 },
 "nbformat": 4,
 "nbformat_minor": 2
}
